{
 "cells": [
  {
   "cell_type": "markdown",
   "id": "d26ff61e",
   "metadata": {},
   "source": [
    "## Zadanie 1\n",
    "Biorąc pod uwagę ciąg o nieparzystej długości większej niż 7, zwróć łańcuch złożony z trzech środkowych znaków danego ciągu:\n",
    "Przypadek 1:\n",
    "str1 = \"Datatypes\"\n",
    "Oczekiwany wynik:\n",
    "aty\n",
    "Przypadek 2:\n",
    "str2 = \"FullStack\"\n",
    "Oczekiwany wynik:\n",
    "lSt"
   ]
  },
  {
   "cell_type": "code",
   "execution_count": 7,
   "id": "7ee4afd6",
   "metadata": {
    "scrolled": false
   },
   "outputs": [
    {
     "name": "stdout",
     "output_type": "stream",
     "text": [
      "4\n"
     ]
    }
   ],
   "source": [
    "str1 = \"Datatypes\"\n",
    "middle = int(len(str1) / 2)\n",
    "print(middle)\n"
   ]
  },
  {
   "cell_type": "code",
   "execution_count": 8,
   "id": "330080a1",
   "metadata": {},
   "outputs": [
    {
     "data": {
      "text/plain": [
       "'aty'"
      ]
     },
     "execution_count": 8,
     "metadata": {},
     "output_type": "execute_result"
    }
   ],
   "source": [
    "str1[middle-1:middle+2]"
   ]
  },
  {
   "cell_type": "code",
   "execution_count": 9,
   "id": "f5047b15",
   "metadata": {},
   "outputs": [
    {
     "name": "stdout",
     "output_type": "stream",
     "text": [
      "4\n"
     ]
    },
    {
     "data": {
      "text/plain": [
       "'lSt'"
      ]
     },
     "execution_count": 9,
     "metadata": {},
     "output_type": "execute_result"
    }
   ],
   "source": [
    "str2 = \"FullStack\"\n",
    "middle = int(len(str2) / 2)\n",
    "print(middle)\n",
    "str2[middle-1:middle+2]"
   ]
  },
  {
   "cell_type": "markdown",
   "id": "870e120c",
   "metadata": {},
   "source": [
    "## Zadanie2\n",
    "Biorąc pod uwagę 2 ciągi, s1 i s2, utwórz nowy ciąg, dodając s2 w środku s1\n",
    "Dane:\n",
    "s1 = \"FullStack\"\n",
    "s2 = \"Python\"\n",
    "Oczekiwany wynik:\n",
    "FullPythonStack"
   ]
  },
  {
   "cell_type": "code",
   "execution_count": 10,
   "id": "c46893a0",
   "metadata": {},
   "outputs": [
    {
     "name": "stdout",
     "output_type": "stream",
     "text": [
      "FullPythonStack\n"
     ]
    }
   ],
   "source": [
    "s1 = \"FullStack\"\n",
    "s2 = \"Python\"\n",
    "middle = int(len(str1) / 2)\n",
    "print(s1[:middle] + s2 + s1[middle:])"
   ]
  },
  {
   "cell_type": "markdown",
   "id": "9f2f0de0",
   "metadata": {},
   "source": [
    "## Zadanie 3\n",
    "Biorąc pod uwagę 2 ciągi, s1 i s2 zwróć nowy ciąg złożony z pierwszego, środkowego i ostatniego znaku każdego ciągu wejściowego\n",
    "Dane:\n",
    "s1 = \"America\"\n",
    "s2 = \"Japan\"\n",
    "Oczekiwany wynik:\n",
    "AJrpan"
   ]
  },
  {
   "cell_type": "code",
   "execution_count": 11,
   "id": "0664bd28",
   "metadata": {},
   "outputs": [
    {
     "name": "stdout",
     "output_type": "stream",
     "text": [
      "AJrpan\n"
     ]
    }
   ],
   "source": [
    "s1 = \"America\"\n",
    "s2 = \"Japan\"\n",
    "\n",
    "middle_s1 = int(len(s1) / 2)\n",
    "middle_s2 = int(len(s2) / 2)\n",
    "first = s1[0] + s2[0]\n",
    "middle = s1[middle_s1] + s2[middle_s2]\n",
    "end = s1[-1] + s2[-1]\n",
    "\n",
    "print(first + middle + end)\n",
    "\n",
    "\n"
   ]
  },
  {
   "cell_type": "markdown",
   "id": "668327a9",
   "metadata": {},
   "source": [
    "## Zadanie 4\n",
    "Pytanie do ćwiczenia\n",
    "Odwróć podany ciąg\n",
    "Dane:\n",
    "str1 = \"Python\"\n",
    "Oczekiwany wynik:\n",
    "nohtyP"
   ]
  },
  {
   "cell_type": "code",
   "execution_count": 13,
   "id": "13e4eeeb",
   "metadata": {},
   "outputs": [
    {
     "data": {
      "text/plain": [
       "'nohtyP'"
      ]
     },
     "execution_count": 13,
     "metadata": {},
     "output_type": "execute_result"
    }
   ],
   "source": [
    "str1 = \"Python\"\n",
    "\n",
    "print(str1[::-1])"
   ]
  },
  {
   "cell_type": "code",
   "execution_count": 14,
   "id": "1d9eb1e4",
   "metadata": {},
   "outputs": [
    {
     "name": "stdout",
     "output_type": "stream",
     "text": [
      "(50, 40, 30, 20, 10)\n"
     ]
    }
   ],
   "source": [
    "tuple1 = (10, 20, 30, 40, 50)\n",
    "print(tuple1[::-1])"
   ]
  },
  {
   "cell_type": "markdown",
   "id": "d92f7d11",
   "metadata": {},
   "source": [
    "## Zadanie 4\n",
    "Ćwiczenie — dostęp do wartości 20 z krotki\n",
    "Dana krotka jest krotką zagnieżdżoną. Napisz program w Pythonie, który wypisze wartość 20.\n",
    "Dane:\n",
    "tuple1 = (\"Pomarańczowy\", [10, 20, 30], (5, 15, 25))"
   ]
  },
  {
   "cell_type": "code",
   "execution_count": 15,
   "id": "1ede8f56",
   "metadata": {},
   "outputs": [
    {
     "name": "stdout",
     "output_type": "stream",
     "text": [
      "20\n"
     ]
    }
   ],
   "source": [
    "tuple1 = (\"Pomarańczowy\", [10, 20, 30], (5, 15, 25))\n",
    "print(tuple1[1][1])"
   ]
  },
  {
   "cell_type": "markdown",
   "id": "37fea899",
   "metadata": {},
   "source": [
    "## Zadanie 5\n",
    "Poniżej znajdują się dwie listy. Napisz program w Pythonie konwertujący je na słownik w taki sposób, że pozycja z listy 1 jest kluczem, a pozycja z listy 2 jest wartością\n",
    "keys = ['Dziesieć', 'Dwadzieścia', 'Trzydzieści']\n",
    "values = [10, 20, 30]\n",
    "2:16\n",
    "Oczekiwany wynik:\n",
    "{'Dziesieć': 10, 'Dwadzieścia': 20, 'Trzydzieści': 30}"
   ]
  },
  {
   "cell_type": "code",
   "execution_count": 17,
   "id": "7974466c",
   "metadata": {},
   "outputs": [
    {
     "name": "stdout",
     "output_type": "stream",
     "text": [
      "{'Dziesieć': 10, 'Dwadzieścia': 20, 'Trzydzieści': 30}\n"
     ]
    }
   ],
   "source": [
    "keys = ['Dziesieć', 'Dwadzieścia', 'Trzydzieści'] \n",
    "values = [10, 20, 30] \n",
    "\n",
    "result = zip(keys, values)\n",
    "\n",
    "dict_final = dict(result)\n",
    "print(dict_final)"
   ]
  },
  {
   "cell_type": "markdown",
   "id": "6ade7ecd",
   "metadata": {},
   "source": [
    "## Zadanie 6\n",
    "Ćwiczenie — dodaj listę elementów do zbioru\n",
    "Mając listę Pythona, napisz program, który doda wszystkie jej elementy do danego zbioru."
   ]
  },
  {
   "cell_type": "code",
   "execution_count": 21,
   "id": "2b79728c",
   "metadata": {},
   "outputs": [
    {
     "name": "stdout",
     "output_type": "stream",
     "text": [
      "{'Żółty', 'Czarny', 'Niebieski', 'Pomarańczowy', 'Zielony', 'Czerwony'}\n"
     ]
    }
   ],
   "source": [
    "sample_set = {\"Żółty\", \"Pomarańczowy\", \"Czarny\"}\n",
    "sample_list = [\"Niebieski\", \"Zielony\", \"Czerwony\"]\n",
    "\n",
    "sample_set.update(sample_list)\n",
    "print(sample_set)"
   ]
  },
  {
   "cell_type": "code",
   "execution_count": null,
   "id": "9c1101ce",
   "metadata": {},
   "outputs": [],
   "source": []
  }
 ],
 "metadata": {
  "kernelspec": {
   "display_name": "Python 3 (ipykernel)",
   "language": "python",
   "name": "python3"
  },
  "language_info": {
   "codemirror_mode": {
    "name": "ipython",
    "version": 3
   },
   "file_extension": ".py",
   "mimetype": "text/x-python",
   "name": "python",
   "nbconvert_exporter": "python",
   "pygments_lexer": "ipython3",
   "version": "3.10.11"
  }
 },
 "nbformat": 4,
 "nbformat_minor": 5
}
